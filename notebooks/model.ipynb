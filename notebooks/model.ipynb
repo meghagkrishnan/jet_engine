{
 "cells": [
  {
   "cell_type": "code",
   "execution_count": 8,
   "id": "ce5c5e8a-9c46-41ec-8e09-6345f01c7fc7",
   "metadata": {},
   "outputs": [],
   "source": [
    "import pandas as pd\n",
    "import numpy as np\n",
    "from sklearn.preprocessing import MinMaxScaler\n",
    "from sklearn.model_selection import train_test_split\n",
    "from sklearn.linear_model import LinearRegression\n",
    "from sklearn.metrics import mean_squared_error, r2_score"
   ]
  },
  {
   "cell_type": "code",
   "execution_count": 9,
   "id": "28462622-75ec-4978-b631-342f62b1b67b",
   "metadata": {},
   "outputs": [
    {
     "name": "stdout",
     "output_type": "stream",
     "text": [
      "                                                   0\n",
      "0  id,cycle,setting1,setting2,T24_Total_temperatu...\n",
      "1  1,1,-0.0007,-0.0004,641.82,1589.7,1400.6,554.3...\n",
      "2  1,2,0.0019,-0.0003,642.15,1591.82,1403.14,553....\n",
      "3  1,3,-0.0043,0.0003,642.35,1587.99,1404.2,554.2...\n",
      "4  1,4,0.0007,0.0,642.35,1582.79,1401.87,554.45,2...\n",
      "                                                   0\n",
      "0  id,cycle,setting1,setting2,setting3,T2_Total_t...\n",
      "1  1,1,0.0023,0.0003,100.0,518.67,643.02,1585.29,...\n",
      "2  1,2,-0.0027,-0.0003,100.0,518.67,641.71,1588.4...\n",
      "3  1,3,0.0003,0.0001,100.0,518.67,642.46,1586.94,...\n",
      "4  1,4,0.0042,0.0,100.0,518.67,642.44,1584.12,140...\n",
      "     0   1\n",
      "0  112 NaN\n",
      "1   98 NaN\n",
      "2   69 NaN\n",
      "3   82 NaN\n",
      "4   91 NaN\n",
      "Train DataFrame columns: 1\n",
      "Test DataFrame columns: 1\n",
      "RUL DataFrame columns: 2\n"
     ]
    }
   ],
   "source": [
    "# Define file paths\n",
    "train_file_path = 'train1_update.csv'\n",
    "test_file_path = 'test1_filterd.csv'\n",
    "rul_file_path = 'RUL_FD001.txt'\n",
    "\n",
    "# Load the data\n",
    "train_df = pd.read_csv(train_file_path, sep=' ', header=None)\n",
    "test_df = pd.read_csv(test_file_path, sep=' ', header=None)\n",
    "rul_df = pd.read_csv(rul_file_path, sep=' ', header=None)\n",
    "\n",
    "# Display the first few rows to inspect the structure\n",
    "print(train_df.head())\n",
    "print(test_df.head())\n",
    "print(rul_df.head())\n",
    "\n",
    "# Display the number of columns to confirm the structure\n",
    "print(f\"Train DataFrame columns: {train_df.shape[1]}\")\n",
    "print(f\"Test DataFrame columns: {test_df.shape[1]}\")\n",
    "print(f\"RUL DataFrame columns: {rul_df.shape[1]}\")\n"
   ]
  },
  {
   "cell_type": "code",
   "execution_count": 10,
   "id": "e80fb7f3-7cc7-4e3f-9eb4-eab087f085e0",
   "metadata": {},
   "outputs": [
    {
     "ename": "ValueError",
     "evalue": "Length mismatch: Expected axis has 1 elements, new values have 26 elements",
     "output_type": "error",
     "traceback": [
      "\u001b[0;31m---------------------------------------------------------------------------\u001b[0m",
      "\u001b[0;31mValueError\u001b[0m                                Traceback (most recent call last)",
      "Cell \u001b[0;32mIn[10], line 37\u001b[0m\n\u001b[1;32m      7\u001b[0m \u001b[38;5;66;03m# Assign column names\u001b[39;00m\n\u001b[1;32m      8\u001b[0m column_names \u001b[38;5;241m=\u001b[39m [\n\u001b[1;32m      9\u001b[0m     \u001b[38;5;124m'\u001b[39m\u001b[38;5;124mid\u001b[39m\u001b[38;5;124m'\u001b[39m,\n\u001b[1;32m     10\u001b[0m     \u001b[38;5;124m'\u001b[39m\u001b[38;5;124mcycle\u001b[39m\u001b[38;5;124m'\u001b[39m,\n\u001b[0;32m   (...)\u001b[0m\n\u001b[1;32m     34\u001b[0m     \u001b[38;5;124m'\u001b[39m\u001b[38;5;124mW32_LPT_coolant_bleed\u001b[39m\u001b[38;5;124m'\u001b[39m\n\u001b[1;32m     35\u001b[0m ]\n\u001b[0;32m---> 37\u001b[0m \u001b[43mtrain_df\u001b[49m\u001b[38;5;241;43m.\u001b[39;49m\u001b[43mcolumns\u001b[49m \u001b[38;5;241m=\u001b[39m column_names\n\u001b[1;32m     38\u001b[0m test_df\u001b[38;5;241m.\u001b[39mcolumns \u001b[38;5;241m=\u001b[39m column_names\n\u001b[1;32m     39\u001b[0m rul_df\u001b[38;5;241m.\u001b[39mcolumns \u001b[38;5;241m=\u001b[39m [\u001b[38;5;124m'\u001b[39m\u001b[38;5;124mremaining_useful_life\u001b[39m\u001b[38;5;124m'\u001b[39m]\n",
      "File \u001b[0;32m~/.pyenv/versions/3.10.6/envs/jet_engine/lib/python3.10/site-packages/pandas/core/generic.py:6313\u001b[0m, in \u001b[0;36mNDFrame.__setattr__\u001b[0;34m(self, name, value)\u001b[0m\n\u001b[1;32m   6311\u001b[0m \u001b[38;5;28;01mtry\u001b[39;00m:\n\u001b[1;32m   6312\u001b[0m     \u001b[38;5;28mobject\u001b[39m\u001b[38;5;241m.\u001b[39m\u001b[38;5;21m__getattribute__\u001b[39m(\u001b[38;5;28mself\u001b[39m, name)\n\u001b[0;32m-> 6313\u001b[0m     \u001b[38;5;28;01mreturn\u001b[39;00m \u001b[38;5;28;43mobject\u001b[39;49m\u001b[38;5;241;43m.\u001b[39;49m\u001b[38;5;21;43m__setattr__\u001b[39;49m\u001b[43m(\u001b[49m\u001b[38;5;28;43mself\u001b[39;49m\u001b[43m,\u001b[49m\u001b[43m \u001b[49m\u001b[43mname\u001b[49m\u001b[43m,\u001b[49m\u001b[43m \u001b[49m\u001b[43mvalue\u001b[49m\u001b[43m)\u001b[49m\n\u001b[1;32m   6314\u001b[0m \u001b[38;5;28;01mexcept\u001b[39;00m \u001b[38;5;167;01mAttributeError\u001b[39;00m:\n\u001b[1;32m   6315\u001b[0m     \u001b[38;5;28;01mpass\u001b[39;00m\n",
      "File \u001b[0;32mproperties.pyx:69\u001b[0m, in \u001b[0;36mpandas._libs.properties.AxisProperty.__set__\u001b[0;34m()\u001b[0m\n",
      "File \u001b[0;32m~/.pyenv/versions/3.10.6/envs/jet_engine/lib/python3.10/site-packages/pandas/core/generic.py:814\u001b[0m, in \u001b[0;36mNDFrame._set_axis\u001b[0;34m(self, axis, labels)\u001b[0m\n\u001b[1;32m    809\u001b[0m \u001b[38;5;250m\u001b[39m\u001b[38;5;124;03m\"\"\"\u001b[39;00m\n\u001b[1;32m    810\u001b[0m \u001b[38;5;124;03mThis is called from the cython code when we set the `index` attribute\u001b[39;00m\n\u001b[1;32m    811\u001b[0m \u001b[38;5;124;03mdirectly, e.g. `series.index = [1, 2, 3]`.\u001b[39;00m\n\u001b[1;32m    812\u001b[0m \u001b[38;5;124;03m\"\"\"\u001b[39;00m\n\u001b[1;32m    813\u001b[0m labels \u001b[38;5;241m=\u001b[39m ensure_index(labels)\n\u001b[0;32m--> 814\u001b[0m \u001b[38;5;28;43mself\u001b[39;49m\u001b[38;5;241;43m.\u001b[39;49m\u001b[43m_mgr\u001b[49m\u001b[38;5;241;43m.\u001b[39;49m\u001b[43mset_axis\u001b[49m\u001b[43m(\u001b[49m\u001b[43maxis\u001b[49m\u001b[43m,\u001b[49m\u001b[43m \u001b[49m\u001b[43mlabels\u001b[49m\u001b[43m)\u001b[49m\n\u001b[1;32m    815\u001b[0m \u001b[38;5;28mself\u001b[39m\u001b[38;5;241m.\u001b[39m_clear_item_cache()\n",
      "File \u001b[0;32m~/.pyenv/versions/3.10.6/envs/jet_engine/lib/python3.10/site-packages/pandas/core/internals/managers.py:238\u001b[0m, in \u001b[0;36mBaseBlockManager.set_axis\u001b[0;34m(self, axis, new_labels)\u001b[0m\n\u001b[1;32m    236\u001b[0m \u001b[38;5;28;01mdef\u001b[39;00m \u001b[38;5;21mset_axis\u001b[39m(\u001b[38;5;28mself\u001b[39m, axis: AxisInt, new_labels: Index) \u001b[38;5;241m-\u001b[39m\u001b[38;5;241m>\u001b[39m \u001b[38;5;28;01mNone\u001b[39;00m:\n\u001b[1;32m    237\u001b[0m     \u001b[38;5;66;03m# Caller is responsible for ensuring we have an Index object.\u001b[39;00m\n\u001b[0;32m--> 238\u001b[0m     \u001b[38;5;28;43mself\u001b[39;49m\u001b[38;5;241;43m.\u001b[39;49m\u001b[43m_validate_set_axis\u001b[49m\u001b[43m(\u001b[49m\u001b[43maxis\u001b[49m\u001b[43m,\u001b[49m\u001b[43m \u001b[49m\u001b[43mnew_labels\u001b[49m\u001b[43m)\u001b[49m\n\u001b[1;32m    239\u001b[0m     \u001b[38;5;28mself\u001b[39m\u001b[38;5;241m.\u001b[39maxes[axis] \u001b[38;5;241m=\u001b[39m new_labels\n",
      "File \u001b[0;32m~/.pyenv/versions/3.10.6/envs/jet_engine/lib/python3.10/site-packages/pandas/core/internals/base.py:98\u001b[0m, in \u001b[0;36mDataManager._validate_set_axis\u001b[0;34m(self, axis, new_labels)\u001b[0m\n\u001b[1;32m     95\u001b[0m     \u001b[38;5;28;01mpass\u001b[39;00m\n\u001b[1;32m     97\u001b[0m \u001b[38;5;28;01melif\u001b[39;00m new_len \u001b[38;5;241m!=\u001b[39m old_len:\n\u001b[0;32m---> 98\u001b[0m     \u001b[38;5;28;01mraise\u001b[39;00m \u001b[38;5;167;01mValueError\u001b[39;00m(\n\u001b[1;32m     99\u001b[0m         \u001b[38;5;124mf\u001b[39m\u001b[38;5;124m\"\u001b[39m\u001b[38;5;124mLength mismatch: Expected axis has \u001b[39m\u001b[38;5;132;01m{\u001b[39;00mold_len\u001b[38;5;132;01m}\u001b[39;00m\u001b[38;5;124m elements, new \u001b[39m\u001b[38;5;124m\"\u001b[39m\n\u001b[1;32m    100\u001b[0m         \u001b[38;5;124mf\u001b[39m\u001b[38;5;124m\"\u001b[39m\u001b[38;5;124mvalues have \u001b[39m\u001b[38;5;132;01m{\u001b[39;00mnew_len\u001b[38;5;132;01m}\u001b[39;00m\u001b[38;5;124m elements\u001b[39m\u001b[38;5;124m\"\u001b[39m\n\u001b[1;32m    101\u001b[0m     )\n",
      "\u001b[0;31mValueError\u001b[0m: Length mismatch: Expected axis has 1 elements, new values have 26 elements"
     ]
    }
   ],
   "source": [
    "# Check and drop the last two columns if they are all NaN due to trailing space in files\n",
    "if train_df.shape[1] > 26:\n",
    "    train_df.drop(train_df.columns[[26, 27]], axis=1, inplace=True)\n",
    "if test_df.shape[1] > 26:\n",
    "    test_df.drop(test_df.columns[[26, 27]], axis=1, inplace=True)\n",
    "\n",
    "# Assign column names\n",
    "column_names = [\n",
    "    'id',\n",
    "    'cycle',\n",
    "    'setting1',\n",
    "    'setting2',\n",
    "    'setting3',\n",
    "    'T2_Total_temperature_at_fan_inlet',\n",
    "    'T24_Total_temperature_at_LPC_outlet',\n",
    "    'T30_Total_temperature_at_HPC_outlet',\n",
    "    'T50_Total_temperature_at_LPT_outlet',\n",
    "    'P2_Pressure_at_fan_inlet',\n",
    "    'P15_Total_pressure_in_bypass_duct',\n",
    "    'P30_Total_pressure_at_HPC_outlet',\n",
    "    'Nf_Physical_fan_speed',\n",
    "    'Nc_Physical_core_speed',\n",
    "    'epr_Engine_pressure_ratio',\n",
    "    'Ps30_Static_pressure_at_HPC_outlet',\n",
    "    'phi_Ratio_of_fuel_flow_to_Ps30',\n",
    "    'NRf_Corrected_fan_speed',\n",
    "    'NRc_Corrected_core_speed',\n",
    "    'BPR_Bypass_Ratio',\n",
    "    'farB_Burner_fuel_air_ratio',\n",
    "    'htBleed_Bleed_Enthalpy',\n",
    "    'Nf_dmd_Demanded_fan_speed',\n",
    "    'PCNfR_dmd_Demanded_corrected_fan_speed',\n",
    "    'W31_HPT_coolant_bleed',\n",
    "    'W32_LPT_coolant_bleed'\n",
    "]\n",
    "\n",
    "train_df.columns = column_names\n",
    "test_df.columns = column_names\n",
    "rul_df.columns = ['remaining_useful_life']"
   ]
  },
  {
   "cell_type": "code",
   "execution_count": null,
   "id": "b7d28a31-ee6d-4aac-888c-978aca139f5e",
   "metadata": {},
   "outputs": [],
   "source": [
    "# Normalize the data\n",
    "scaler = MinMaxScaler()\n",
    "train_df.iloc[:, 2:] = scaler.fit_transform(train_df.iloc[:, 2:])\n",
    "test_df.iloc[:, 2:] = scaler.transform(test_df.iloc[:, 2:])\n",
    "\n",
    "# Add remaining useful life to the training data\n",
    "rul = pd.DataFrame(train_df.groupby('id')['cycle'].max()).reset_index()\n",
    "rul.columns = ['id', 'max_cycle']\n",
    "train_df = train_df.merge(rul, on=['id'], how='left')\n",
    "train_df['remaining_useful_life'] = train_df['max_cycle'] - train_df['cycle']\n",
    "train_df.drop(columns=['max_cycle'], inplace=True)"
   ]
  },
  {
   "cell_type": "code",
   "execution_count": null,
   "id": "e259633a-d1e5-4d45-8ba5-fdbead3da567",
   "metadata": {},
   "outputs": [],
   "source": [
    "# Select features and target\n",
    "features = train_df.drop(columns=['id', 'cycle', 'remaining_useful_life'])\n",
    "target = train_df['remaining_useful_life']\n",
    "\n",
    "# Split the data into training and validation sets\n",
    "X_train, X_val, y_train, y_val = train_test_split(features, target, test_size=0.2, random_state=42)"
   ]
  },
  {
   "cell_type": "code",
   "execution_count": null,
   "id": "de2f60b0-6fe4-46f0-ab04-952ec1deaf69",
   "metadata": {},
   "outputs": [],
   "source": [
    "# Initialize and train the linear regression model\n",
    "lr_model = LinearRegression()\n",
    "lr_model.fit(X_train, y_train)\n"
   ]
  },
  {
   "cell_type": "code",
   "execution_count": null,
   "id": "a391e499-0f0a-477e-a9f7-ba3bf5d93fac",
   "metadata": {},
   "outputs": [],
   "source": [
    "# Make predictions on the validation set\n",
    "y_pred = lr_model.predict(X_val)\n",
    "\n",
    "# Calculate performance metrics\n",
    "mse = mean_squared_error(y_val, y_pred)\n",
    "rmse = np.sqrt(mse)\n",
    "r2 = r2_score(y_val, y_pred)\n",
    "\n",
    "print(f\"Mean Squared Error: {mse}\")\n",
    "print(f\"Root Mean Squared Error: {rmse}\")\n",
    "print(f\"R^2 Score: {r2}\")"
   ]
  }
 ],
 "metadata": {
  "kernelspec": {
   "display_name": "Python 3 (ipykernel)",
   "language": "python",
   "name": "python3"
  },
  "language_info": {
   "codemirror_mode": {
    "name": "ipython",
    "version": 3
   },
   "file_extension": ".py",
   "mimetype": "text/x-python",
   "name": "python",
   "nbconvert_exporter": "python",
   "pygments_lexer": "ipython3",
   "version": "3.10.6"
  }
 },
 "nbformat": 4,
 "nbformat_minor": 5
}
